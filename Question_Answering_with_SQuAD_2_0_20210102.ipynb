{
  "nbformat": 4,
  "nbformat_minor": 0,
  "metadata": {
    "colab": {
      "name": "Question_Answering_with_SQuAD_2_0_20210102.ipynb",
      "provenance": [],
      "collapsed_sections": [],
      "toc_visible": true,
      "include_colab_link": true
    },
    "kernelspec": {
      "display_name": "Python 3",
      "language": "python",
      "name": "python3"
    },
    "language_info": {
      "codemirror_mode": {
        "name": "ipython",
        "version": 3
      },
      "file_extension": ".py",
      "mimetype": "text/x-python",
      "name": "python",
      "nbconvert_exporter": "python",
      "pygments_lexer": "ipython3",
      "version": "3.7.3"
    }
  },
  "cells": [
    {
      "cell_type": "markdown",
      "metadata": {
        "id": "view-in-github",
        "colab_type": "text"
      },
      "source": [
        "<a href=\"https://colab.research.google.com/github/HemantTiwariGitHub/CapstoneProject2021/blob/main/Question_Answering_with_SQuAD_2_0_20210102.ipynb\" target=\"_parent\"><img src=\"https://colab.research.google.com/assets/colab-badge.svg\" alt=\"Open In Colab\"/></a>"
      ]
    },
    {
      "cell_type": "markdown",
      "metadata": {
        "id": "-Tz7wt7G_kLd"
      },
      "source": [
        "**Question answering** comes in many forms. In this example, we’ll look at the particular type of extractive QA that involves answering a question about a passage by highlighting the segment of the passage that answers the question. This involves fine-tuning a model which predicts a start position and an end position in the passage. We will use the Stanford Question Answering Dataset (SQuAD) 2.0.\n",
        "\n",
        "We will start by downloading the data:"
      ]
    },
    {
      "cell_type": "markdown",
      "metadata": {
        "id": "ZKgPO4AUDZYi"
      },
      "source": [
        "## **Note :**"
      ]
    },
    {
      "cell_type": "markdown",
      "metadata": {
        "id": "xAv2_F8VDL9t"
      },
      "source": [
        "Please write your code in the cells with the \"**Your code here**\" placeholder."
      ]
    },
    {
      "cell_type": "markdown",
      "metadata": {
        "id": "ockcf0NvAHy5"
      },
      "source": [
        "## **Download SQuAD 2.0 Data**"
      ]
    },
    {
      "cell_type": "markdown",
      "metadata": {
        "id": "6pmSMjQN_5zd"
      },
      "source": [
        "Note : This dataset can be explored in the Hugging Face model hub (SQuAD V2), and can be alternatively downloaded with the 🤗 NLP library with load_dataset(\"squad_v2\")."
      ]
    },
    {
      "cell_type": "code",
      "metadata": {
        "id": "2GlKOoe6pLmQ",
        "colab": {
          "base_uri": "https://localhost:8080/"
        },
        "outputId": "aa3a1bf5-5ac8-48cb-ca6a-b06cdf8ab18c"
      },
      "source": [
        "!mkdir squad\n",
        "!wget https://rajpurkar.github.io/SQuAD-explorer/dataset/train-v2.0.json -O /content/squad/train-v2.0.json\n",
        "!wget https://rajpurkar.github.io/SQuAD-explorer/dataset/dev-v2.0.json -O /content/squad/dev-v2.0.json"
      ],
      "execution_count": 2,
      "outputs": [
        {
          "output_type": "stream",
          "text": [
            "mkdir: cannot create directory ‘squad’: File exists\n",
            "--2021-01-03 09:18:11--  https://rajpurkar.github.io/SQuAD-explorer/dataset/train-v2.0.json\n",
            "Resolving rajpurkar.github.io (rajpurkar.github.io)... 185.199.109.153, 185.199.108.153, 185.199.110.153, ...\n",
            "Connecting to rajpurkar.github.io (rajpurkar.github.io)|185.199.109.153|:443... connected.\n",
            "HTTP request sent, awaiting response... 200 OK\n",
            "Length: 42123633 (40M) [application/json]\n",
            "Saving to: ‘/content/squad/train-v2.0.json’\n",
            "\n",
            "/content/squad/trai 100%[===================>]  40.17M   151MB/s    in 0.3s    \n",
            "\n",
            "2021-01-03 09:18:11 (151 MB/s) - ‘/content/squad/train-v2.0.json’ saved [42123633/42123633]\n",
            "\n",
            "--2021-01-03 09:18:12--  https://rajpurkar.github.io/SQuAD-explorer/dataset/dev-v2.0.json\n",
            "Resolving rajpurkar.github.io (rajpurkar.github.io)... 185.199.109.153, 185.199.108.153, 185.199.110.153, ...\n",
            "Connecting to rajpurkar.github.io (rajpurkar.github.io)|185.199.109.153|:443... connected.\n",
            "HTTP request sent, awaiting response... 200 OK\n",
            "Length: 4370528 (4.2M) [application/json]\n",
            "Saving to: ‘/content/squad/dev-v2.0.json’\n",
            "\n",
            "/content/squad/dev- 100%[===================>]   4.17M  --.-KB/s    in 0.1s    \n",
            "\n",
            "2021-01-03 09:18:12 (40.0 MB/s) - ‘/content/squad/dev-v2.0.json’ saved [4370528/4370528]\n",
            "\n"
          ],
          "name": "stdout"
        }
      ]
    },
    {
      "cell_type": "code",
      "metadata": {
        "id": "6iUxzrWhZVyI"
      },
      "source": [
        "import json\n",
        "from pathlib import Path\n",
        "\n",
        "def loadJSONData(filename):\n",
        "    with open(filename) as jsonDataFile:\n",
        "        data = json.load(jsonDataFile)\n",
        "    return data"
      ],
      "execution_count": 3,
      "outputs": []
    },
    {
      "cell_type": "code",
      "metadata": {
        "id": "-5EME07d3jVU"
      },
      "source": [
        "#Data has Multiple Titles\n",
        "#Every Title has Multiple Paragraphs and Each Para has Text in Context\n",
        "#Every Paragraphs has Multiple Questions and Every Question has multiple answers with Answer start index\n",
        "#If Answer is plausible , is_impossible is False.\n",
        "\n",
        "def preprocessSQUAD(JSONData):\n",
        "    contextList = []\n",
        "    questionsList = []\n",
        "    answersList = []\n",
        "\n",
        "    titlesCount = len(JSONData['data'])\n",
        "    BaseData = JSONData['data']\n",
        "    print(\"Length Of JSON Data : \", titlesCount)\n",
        "    for titleID in (range(titlesCount)):\n",
        "      title = BaseData[titleID]['title']\n",
        "      #print(\"Title : \", title);\n",
        "      paragraphs = BaseData[titleID]['paragraphs']\n",
        "      paragraphCount = len(paragraphs)\n",
        "\n",
        "      for paraID in range(paragraphCount):\n",
        "        context = paragraphs[paraID]['context']\n",
        "        #print(\"Context : \",context);\n",
        "        \n",
        "        questions = paragraphs[paraID]['qas']\n",
        "        questionCount = len(questions)\n",
        "        \n",
        "        for questionID in range(questionCount):\n",
        "          \n",
        "          # No Need to Process Questions whose Answers are not present\n",
        "          if (questions[questionID]['is_impossible'] == True):\n",
        "            continue\n",
        "\n",
        "          questionText = questions[questionID]['question']\n",
        "          answers = questions[questionID]['answers']\n",
        "\n",
        "          #The SQUAD answer is a List  and in DEV most of times there are multiple answers\n",
        "          for answer in answers:\n",
        "            #Prepare The list of Context, Question and Answers parallely.\n",
        "            contextList.append(context)\n",
        "            questionsList.append(questionText)\n",
        "            answersList.append(answer)\n",
        "\n",
        "\n",
        "    print(\"Length of Context, Questions and Answers\" , len (contextList), \" , \", len(questionsList),  \" , \", len(answersList) )    \n",
        "    return contextList, questionsList, answersList\n"
      ],
      "execution_count": 4,
      "outputs": []
    },
    {
      "cell_type": "markdown",
      "metadata": {
        "id": "4Jv7ipy5AYUM"
      },
      "source": [
        "Each split is in a structured json file with a number of questions and answers for each passage (or context). We’ll take this apart into parallel lists of contexts, questions, and answers (note that the contexts here are repeated since there are multiple questions per context):"
      ]
    },
    {
      "cell_type": "code",
      "metadata": {
        "id": "IKMDLA8woiA8",
        "colab": {
          "base_uri": "https://localhost:8080/"
        },
        "outputId": "6f24b24d-d6c0-4961-ef69-0bc2fef33c08"
      },
      "source": [
        "def read_squad(path):\n",
        "   # Your code here\n",
        "  dataInJSON = loadJSONData(path)\n",
        "  return preprocessSQUAD(dataInJSON)\n",
        "\n",
        "\n",
        "train_contexts, train_questions, train_answers = read_squad('/content/squad/train-v2.0.json')\n",
        "print(\"Length of Context, Questions and Answers\" , len (train_contexts), \" , \", len(train_questions),  \" , \", len(train_answers) ) \n",
        "val_contexts, val_questions, val_answers = read_squad('/content/squad/dev-v2.0.json')\n",
        "print(\"Length of Context, Questions and Answers\" , len (val_contexts), \" , \", len(val_questions),  \" , \", len(val_answers) ) \n"
      ],
      "execution_count": 5,
      "outputs": [
        {
          "output_type": "stream",
          "text": [
            "Length Of JSON Data :  442\n",
            "Length of Context, Questions and Answers 86821  ,  86821  ,  86821\n",
            "Length of Context, Questions and Answers 86821  ,  86821  ,  86821\n",
            "Length Of JSON Data :  35\n",
            "Length of Context, Questions and Answers 20302  ,  20302  ,  20302\n",
            "Length of Context, Questions and Answers 20302  ,  20302  ,  20302\n"
          ],
          "name": "stdout"
        }
      ]
    },
    {
      "cell_type": "markdown",
      "metadata": {
        "id": "2bPtDyaFAtQm"
      },
      "source": [
        "The contexts and questions are just strings. The answers are dicts containing the subsequence of the passage with the correct answer as well as an integer indicating the character at which the answer begins. In order to train a model on this data we need (1) the tokenized context/question pairs, and (2) integers indicating at which token positions the answer begins and ends.\n",
        "\n",
        "First, let’s get the character position at which the answer ends in the passage (we are given the starting position). Sometimes SQuAD answers are off by one or two characters, so we will also adjust for that."
      ]
    },
    {
      "cell_type": "code",
      "metadata": {
        "id": "nraxKhioA1rG",
        "colab": {
          "base_uri": "https://localhost:8080/"
        },
        "outputId": "f88d4ee6-15ae-46b2-efe3-f02be88b784f"
      },
      "source": [
        "def add_end_idx(answers, contexts):\n",
        "    offByOneCount = 0\n",
        "    offByTwoCount = 0\n",
        "    exactCount = 0\n",
        "    for answer, context in zip(answers, contexts):\n",
        "      # Your code here\n",
        "     \n",
        "      # extract Answers and Start Positions\n",
        "      #print(answer)\n",
        "      answerText = answer['text']\n",
        "      answerStartIndex = answer['answer_start']\n",
        "      \n",
        "      # calculate the end positions\n",
        "      answerEndIndex = answerStartIndex + len (answerText)\n",
        "      #print(\"Answer : \",answerText)\n",
        "      #print(\"AnswerStartIndex : \",answerStartIndex,\" AnswerEndIndex : \",answerEndIndex )  \n",
        "\n",
        "      # Check if Answers are off by 1 or 2 and fix\n",
        "      if context[answerStartIndex:answerEndIndex] == answerText:\n",
        "        answer['answer_end'] = answerEndIndex\n",
        "        exactCount = exactCount + 1\n",
        "\n",
        "      # Answer is off by 1 char    \n",
        "      elif context[answerStartIndex - 1:answerEndIndex - 1] == answerText:\n",
        "        answer['answer_start'] = answerStartIndex - 1\n",
        "        answer['answer_end'] = answerEndIndex - 1     \n",
        "        offByOneCount = offByOneCount + 1\n",
        "\n",
        "      elif context[answerStartIndex + 1:answerEndIndex + 1] == answerText:\n",
        "        answer['answer_start'] = answerStartIndex + 1\n",
        "        answer['answer_end'] = answerEndIndex + 1     \n",
        "        offByOneCount = offByOneCount + 1\n",
        "\n",
        "      # Answer is off by 2 chars\n",
        "      elif context[answerStartIndex - 2:answerEndIndex - 2] == answerText:\n",
        "        answer['answer_start'] = answerStartIndex - 2\n",
        "        answer['answer_end'] = answerEndIndex - 2\n",
        "        offByTwoCount = offByTwoCount + 1\n",
        "      \n",
        "      elif context[answerStartIndex + 2:answerEndIndex + 2] == answerText:\n",
        "        answer['answer_start'] = answerStartIndex + 2\n",
        "        answer['answer_end'] = answerEndIndex + 2\n",
        "        offByTwoCount = offByTwoCount + 1\n",
        "\n",
        "      else:\n",
        "        print(\"!!Answer is outside correctable range!!\") \n",
        "\n",
        "    print (\"OffByOne : \" , offByOneCount, \" , OffByTwo : \", offByTwoCount, \" exact : \", exactCount)\n",
        "add_end_idx(train_answers, train_contexts)\n",
        "add_end_idx(val_answers, val_contexts)"
      ],
      "execution_count": 6,
      "outputs": [
        {
          "output_type": "stream",
          "text": [
            "OffByOne :  0  , OffByTwo :  0  exact :  86821\n",
            "OffByOne :  0  , OffByTwo :  0  exact :  20302\n"
          ],
          "name": "stdout"
        }
      ]
    },
    {
      "cell_type": "markdown",
      "metadata": {
        "id": "CmLsa8hQA2a7"
      },
      "source": [
        "Now train_answers and val_answers include the character end positions and the corrected start positions. Next, let’s tokenize our context/question pairs. 🤗 Tokenizers can accept parallel lists of sequences and encode them together as sequence pairs."
      ]
    },
    {
      "cell_type": "code",
      "metadata": {
        "id": "KdhZS6o0qMty",
        "colab": {
          "base_uri": "https://localhost:8080/"
        },
        "outputId": "5465a533-78a3-4aee-b92c-f75f9433bc80"
      },
      "source": [
        "!pip install transformers==4.0.1\n",
        "from transformers import DistilBertTokenizerFast\n",
        "tokenizer = DistilBertTokenizerFast.from_pretrained('distilbert-base-uncased')\n",
        "\n",
        "# Your code here\n",
        "train_encodings = tokenizer(train_contexts, train_questions, truncation=True, padding=True)\n",
        "\n",
        "# Your code here\n",
        "val_encodings = tokenizer(val_contexts, val_questions, truncation=True, padding=True)"
      ],
      "execution_count": 7,
      "outputs": [
        {
          "output_type": "stream",
          "text": [
            "Requirement already satisfied: transformers==4.0.1 in /usr/local/lib/python3.6/dist-packages (4.0.1)\n",
            "Requirement already satisfied: tokenizers==0.9.4 in /usr/local/lib/python3.6/dist-packages (from transformers==4.0.1) (0.9.4)\n",
            "Requirement already satisfied: numpy in /usr/local/lib/python3.6/dist-packages (from transformers==4.0.1) (1.19.4)\n",
            "Requirement already satisfied: filelock in /usr/local/lib/python3.6/dist-packages (from transformers==4.0.1) (3.0.12)\n",
            "Requirement already satisfied: regex!=2019.12.17 in /usr/local/lib/python3.6/dist-packages (from transformers==4.0.1) (2019.12.20)\n",
            "Requirement already satisfied: tqdm>=4.27 in /usr/local/lib/python3.6/dist-packages (from transformers==4.0.1) (4.41.1)\n",
            "Requirement already satisfied: packaging in /usr/local/lib/python3.6/dist-packages (from transformers==4.0.1) (20.8)\n",
            "Requirement already satisfied: dataclasses; python_version < \"3.7\" in /usr/local/lib/python3.6/dist-packages (from transformers==4.0.1) (0.8)\n",
            "Requirement already satisfied: requests in /usr/local/lib/python3.6/dist-packages (from transformers==4.0.1) (2.23.0)\n",
            "Requirement already satisfied: sacremoses in /usr/local/lib/python3.6/dist-packages (from transformers==4.0.1) (0.0.43)\n",
            "Requirement already satisfied: pyparsing>=2.0.2 in /usr/local/lib/python3.6/dist-packages (from packaging->transformers==4.0.1) (2.4.7)\n",
            "Requirement already satisfied: certifi>=2017.4.17 in /usr/local/lib/python3.6/dist-packages (from requests->transformers==4.0.1) (2020.12.5)\n",
            "Requirement already satisfied: chardet<4,>=3.0.2 in /usr/local/lib/python3.6/dist-packages (from requests->transformers==4.0.1) (3.0.4)\n",
            "Requirement already satisfied: idna<3,>=2.5 in /usr/local/lib/python3.6/dist-packages (from requests->transformers==4.0.1) (2.10)\n",
            "Requirement already satisfied: urllib3!=1.25.0,!=1.25.1,<1.26,>=1.21.1 in /usr/local/lib/python3.6/dist-packages (from requests->transformers==4.0.1) (1.24.3)\n",
            "Requirement already satisfied: click in /usr/local/lib/python3.6/dist-packages (from sacremoses->transformers==4.0.1) (7.1.2)\n",
            "Requirement already satisfied: joblib in /usr/local/lib/python3.6/dist-packages (from sacremoses->transformers==4.0.1) (1.0.0)\n",
            "Requirement already satisfied: six in /usr/local/lib/python3.6/dist-packages (from sacremoses->transformers==4.0.1) (1.15.0)\n"
          ],
          "name": "stdout"
        }
      ]
    },
    {
      "cell_type": "markdown",
      "metadata": {
        "id": "DJdAikOIA_Zo"
      },
      "source": [
        "Next we need to convert our character start/end positions to token start/end positions. When using 🤗 Fast Tokenizers, we can use the <b>built in char_to_token()</b> method."
      ]
    },
    {
      "cell_type": "code",
      "metadata": {
        "id": "Kau7PrtIBAde"
      },
      "source": [
        "def add_token_positions(encodings, answers):\n",
        "    start_positions = []\n",
        "    end_positions = []\n",
        "    \n",
        "    # Your code here\n",
        "    for answerIndex in range(len(answers)):\n",
        "      #print (answers[answerIndex])\n",
        "      start_positions.append(encodings.char_to_token(answerIndex, answers[answerIndex]['answer_start']))\n",
        "      end_positions.append(encodings.char_to_token(answerIndex, answers[answerIndex]['answer_end'] - 1))\n",
        "      \n",
        "      # if None, the answer passage has been truncated\n",
        "      if start_positions[-1] is None:\n",
        "        start_positions[-1] = tokenizer.model_max_length\n",
        "      \n",
        "      if end_positions[-1] is None:\n",
        "        end_positions[-1] = tokenizer.model_max_length\n",
        "\n",
        "    encodings.update({'start_positions': start_positions, 'end_positions': end_positions})\n",
        "\n",
        "add_token_positions(train_encodings, train_answers)\n",
        "add_token_positions(val_encodings, val_answers)"
      ],
      "execution_count": 8,
      "outputs": []
    },
    {
      "cell_type": "markdown",
      "metadata": {
        "id": "QLIp2RhABITo"
      },
      "source": [
        "Our data is ready. Let’s just put it in a PyTorch/TensorFlow dataset so that we can easily use it for training. In PyTorch, we define a custom Dataset class. In TensorFlow, we pass a tuple of (inputs_dict, labels_dict) to the from_tensor_slices method."
      ]
    },
    {
      "cell_type": "code",
      "metadata": {
        "id": "cchIqVWpBI7X"
      },
      "source": [
        "import tensorflow as tf\n",
        "\n",
        "# Your code here\n",
        "train_dataset = tf.data.Dataset.from_tensor_slices((\n",
        "    {key: train_encodings[key] for key in ['input_ids', 'attention_mask']},\n",
        "    {key: train_encodings[key] for key in ['start_positions', 'end_positions']}\n",
        "))\n",
        "\n",
        "# Your code here\n",
        "val_dataset = tf.data.Dataset.from_tensor_slices((\n",
        "    {key: val_encodings[key] for key in ['input_ids', 'attention_mask']},\n",
        "    {key: val_encodings[key] for key in ['start_positions', 'end_positions']}\n",
        "))"
      ],
      "execution_count": 9,
      "outputs": []
    },
    {
      "cell_type": "markdown",
      "metadata": {
        "id": "OshKaYppBOtD"
      },
      "source": [
        "Now we can use a DistilBert model with a QA head for training:"
      ]
    },
    {
      "cell_type": "code",
      "metadata": {
        "id": "-sGzpUDvBPVU",
        "colab": {
          "base_uri": "https://localhost:8080/"
        },
        "outputId": "784102f8-bed5-486c-cffd-4b2439a6bc33"
      },
      "source": [
        "from transformers import TFDistilBertForQuestionAnswering\n",
        "\n",
        "# Your code here\n",
        "model = TFDistilBertForQuestionAnswering.from_pretrained(\"distilbert-base-uncased\")"
      ],
      "execution_count": 10,
      "outputs": [
        {
          "output_type": "stream",
          "text": [
            "Some layers from the model checkpoint at distilbert-base-uncased were not used when initializing TFDistilBertForQuestionAnswering: ['vocab_projector', 'vocab_layer_norm', 'activation_13', 'vocab_transform']\n",
            "- This IS expected if you are initializing TFDistilBertForQuestionAnswering from the checkpoint of a model trained on another task or with another architecture (e.g. initializing a BertForSequenceClassification model from a BertForPreTraining model).\n",
            "- This IS NOT expected if you are initializing TFDistilBertForQuestionAnswering from the checkpoint of a model that you expect to be exactly identical (initializing a BertForSequenceClassification model from a BertForSequenceClassification model).\n",
            "Some layers of TFDistilBertForQuestionAnswering were not initialized from the model checkpoint at distilbert-base-uncased and are newly initialized: ['qa_outputs', 'dropout_19']\n",
            "You should probably TRAIN this model on a down-stream task to be able to use it for predictions and inference.\n"
          ],
          "name": "stderr"
        }
      ]
    },
    {
      "cell_type": "markdown",
      "metadata": {
        "id": "2UGXo8SwBTeX"
      },
      "source": [
        "The data and model are both ready to go. You can train the model with Trainer/TFTrainer exactly as in the sequence classification example above. If using native PyTorch, replace labels with start_positions and end_positions in the training example. If using Keras’s fit, we need to make a minor modification to handle this example since it involves multiple model outputs."
      ]
    },
    {
      "cell_type": "code",
      "metadata": {
        "id": "lSwoxCD_BU_D",
        "colab": {
          "base_uri": "https://localhost:8080/"
        },
        "outputId": "e235980e-6981-4c36-a5c4-a22d43b16a9b"
      },
      "source": [
        "# Keras will expect a tuple when dealing with labels\n",
        "\n",
        "# Write your code here to replace labels with start_positions and end_positions in the training example\n",
        "train_dataset = train_dataset.map(lambda x, y: (x, (y['start_positions'], y['end_positions'])))\n",
        "\n",
        "# Keras will assign a separate loss for each output and add them together. So we'll just use the standard CE loss\n",
        "# instead of using the built-in model.compute_loss, which expects a dict of outputs and averages the two terms.\n",
        "# Note that this means the loss will be 2x of when using TFTrainer since we're adding instead of averaging them.\n",
        "\n",
        "# Your code here\n",
        "loss =  tf.keras.losses.SparseCategoricalCrossentropy(from_logits=True)\n",
        "model.distilbert.return_dict = False # if using 🤗 Transformers >3.02, make sure outputs are tuples\n",
        "\n",
        "# Your code here\n",
        "optimizer =  tf.keras.optimizers.Adam(learning_rate=5e-5)\n",
        "\n",
        "model.compile(optimizer=optimizer, loss=loss) # can also use any keras loss fn\n",
        "model.fit(train_dataset.shuffle(1000).batch(16), epochs=3, batch_size= 2)"
      ],
      "execution_count": null,
      "outputs": [
        {
          "output_type": "stream",
          "text": [
            "Epoch 1/3\n"
          ],
          "name": "stdout"
        }
      ]
    },
    {
      "cell_type": "code",
      "metadata": {
        "id": "AeAw6sY_KhlM"
      },
      "source": [
        ""
      ],
      "execution_count": null,
      "outputs": []
    }
  ]
}