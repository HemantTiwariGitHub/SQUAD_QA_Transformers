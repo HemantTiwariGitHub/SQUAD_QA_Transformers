{
  "nbformat": 4,
  "nbformat_minor": 0,
  "metadata": {
    "colab": {
      "name": "Question_Answering_with_SQuAD_2_0_20210102.ipynb",
      "provenance": [],
      "collapsed_sections": [],
      "toc_visible": true,
      "include_colab_link": true
    },
    "kernelspec": {
      "display_name": "Python 3",
      "language": "python",
      "name": "python3"
    },
    "language_info": {
      "codemirror_mode": {
        "name": "ipython",
        "version": 3
      },
      "file_extension": ".py",
      "mimetype": "text/x-python",
      "name": "python",
      "nbconvert_exporter": "python",
      "pygments_lexer": "ipython3",
      "version": "3.7.3"
    }
  },
  "cells": [
    {
      "cell_type": "markdown",
      "metadata": {
        "id": "view-in-github",
        "colab_type": "text"
      },
      "source": [
        "<a href=\"https://colab.research.google.com/github/HemantTiwariGitHub/CapstoneProject2021/blob/main/Question_Answering_with_SQuAD_2_0_20210102.ipynb\" target=\"_parent\"><img src=\"https://colab.research.google.com/assets/colab-badge.svg\" alt=\"Open In Colab\"/></a>"
      ]
    },
    {
      "cell_type": "markdown",
      "metadata": {
        "id": "-Tz7wt7G_kLd"
      },
      "source": [
        "**Question answering** comes in many forms. In this example, we’ll look at the particular type of extractive QA that involves answering a question about a passage by highlighting the segment of the passage that answers the question. This involves fine-tuning a model which predicts a start position and an end position in the passage. We will use the Stanford Question Answering Dataset (SQuAD) 2.0.\n",
        "\n",
        "We will start by downloading the data:"
      ]
    },
    {
      "cell_type": "markdown",
      "metadata": {
        "id": "ZKgPO4AUDZYi"
      },
      "source": [
        "## **Note :**"
      ]
    },
    {
      "cell_type": "markdown",
      "metadata": {
        "id": "xAv2_F8VDL9t"
      },
      "source": [
        "Please write your code in the cells with the \"**Your code here**\" placeholder."
      ]
    },
    {
      "cell_type": "markdown",
      "metadata": {
        "id": "ockcf0NvAHy5"
      },
      "source": [
        "## **Download SQuAD 2.0 Data**"
      ]
    },
    {
      "cell_type": "markdown",
      "metadata": {
        "id": "6pmSMjQN_5zd"
      },
      "source": [
        "Note : This dataset can be explored in the Hugging Face model hub (SQuAD V2), and can be alternatively downloaded with the 🤗 NLP library with load_dataset(\"squad_v2\")."
      ]
    },
    {
      "cell_type": "code",
      "metadata": {
        "id": "2GlKOoe6pLmQ",
        "colab": {
          "base_uri": "https://localhost:8080/"
        },
        "outputId": "e26a8fc7-2ea6-4474-de3e-468306a2f050"
      },
      "source": [
        "!mkdir squad\n",
        "!wget https://rajpurkar.github.io/SQuAD-explorer/dataset/train-v2.0.json -O /content/squad/train-v2.0.json\n",
        "!wget https://rajpurkar.github.io/SQuAD-explorer/dataset/dev-v2.0.json -O /content/squad/dev-v2.0.json"
      ],
      "execution_count": 1,
      "outputs": [
        {
          "output_type": "stream",
          "text": [
            "--2021-01-03 05:04:31--  https://rajpurkar.github.io/SQuAD-explorer/dataset/train-v2.0.json\n",
            "Resolving rajpurkar.github.io (rajpurkar.github.io)... 185.199.108.153, 185.199.109.153, 185.199.110.153, ...\n",
            "Connecting to rajpurkar.github.io (rajpurkar.github.io)|185.199.108.153|:443... connected.\n",
            "HTTP request sent, awaiting response... 200 OK\n",
            "Length: 42123633 (40M) [application/json]\n",
            "Saving to: ‘/content/squad/train-v2.0.json’\n",
            "\n",
            "/content/squad/trai 100%[===================>]  40.17M  67.1MB/s    in 0.6s    \n",
            "\n",
            "2021-01-03 05:04:32 (67.1 MB/s) - ‘/content/squad/train-v2.0.json’ saved [42123633/42123633]\n",
            "\n",
            "--2021-01-03 05:04:32--  https://rajpurkar.github.io/SQuAD-explorer/dataset/dev-v2.0.json\n",
            "Resolving rajpurkar.github.io (rajpurkar.github.io)... 185.199.108.153, 185.199.109.153, 185.199.110.153, ...\n",
            "Connecting to rajpurkar.github.io (rajpurkar.github.io)|185.199.108.153|:443... connected.\n",
            "HTTP request sent, awaiting response... 200 OK\n",
            "Length: 4370528 (4.2M) [application/json]\n",
            "Saving to: ‘/content/squad/dev-v2.0.json’\n",
            "\n",
            "/content/squad/dev- 100%[===================>]   4.17M  --.-KB/s    in 0.1s    \n",
            "\n",
            "2021-01-03 05:04:32 (40.1 MB/s) - ‘/content/squad/dev-v2.0.json’ saved [4370528/4370528]\n",
            "\n"
          ],
          "name": "stdout"
        }
      ]
    },
    {
      "cell_type": "code",
      "metadata": {
        "id": "6iUxzrWhZVyI"
      },
      "source": [
        "import json\n",
        "from pathlib import Path\n",
        "\n",
        "def loadJSONData(filename):\n",
        "    with open(filename) as jsonDataFile:\n",
        "        data = json.load(jsonDataFile)\n",
        "    return data"
      ],
      "execution_count": 2,
      "outputs": []
    },
    {
      "cell_type": "code",
      "metadata": {
        "id": "-5EME07d3jVU"
      },
      "source": [
        "#Data has Multiple Titles\n",
        "#Every Title has Multiple Paragraphs and Each Para has Text in Context\n",
        "#Every Paragraphs has Multiple Questions and Every Question has multiple answers with Answer start index\n",
        "#If Answer is plausible , is_impossible is False.\n",
        "\n",
        "def preprocessSQUAD(JSONData):\n",
        "    contextList = []\n",
        "    questionsList = []\n",
        "    answersList = []\n",
        "\n",
        "    titlesCount = len(JSONData['data'])\n",
        "    BaseData = JSONData['data']\n",
        "    print(\"Length Of JSON Data : \", titlesCount)\n",
        "    for titleID in (range(titlesCount)):\n",
        "      title = BaseData[titleID]['title']\n",
        "      #print(\"Title : \", title);\n",
        "      paragraphs = BaseData[titleID]['paragraphs']\n",
        "      paragraphCount = len(paragraphs)\n",
        "\n",
        "      for paraID in range(paragraphCount):\n",
        "        context = paragraphs[paraID]['context']\n",
        "        #print(\"Context : \",context);\n",
        "        \n",
        "        questions = paragraphs[paraID]['qas']\n",
        "        questionCount = len(questions)\n",
        "        \n",
        "        for questionID in range(questionCount):\n",
        "          \n",
        "          # No Need to Process Questions whose Answers are not present\n",
        "          if (questions[questionID]['is_impossible'] == True):\n",
        "            continue\n",
        "\n",
        "          questionText = questions[questionID]['question']\n",
        "          answers = questions[questionID]['answers']\n",
        "\n",
        "          #The SQUAD answer is a List  and in DEV most of times there are multiple answers\n",
        "          for answer in answers:\n",
        "            #Prepare The list of Context, Question and Answers parallely.\n",
        "            contextList.append(context)\n",
        "            questionsList.append(questionText)\n",
        "            answersList.append(answers)\n",
        "\n",
        "\n",
        "    print(\"Length of Context, Questions and Answers\" , len (contextList), \" , \", len(questionsList),  \" , \", len(answersList) )    \n",
        "    return contextList, questionsList, answersList\n"
      ],
      "execution_count": 51,
      "outputs": []
    },
    {
      "cell_type": "markdown",
      "metadata": {
        "id": "4Jv7ipy5AYUM"
      },
      "source": [
        "Each split is in a structured json file with a number of questions and answers for each passage (or context). We’ll take this apart into parallel lists of contexts, questions, and answers (note that the contexts here are repeated since there are multiple questions per context):"
      ]
    },
    {
      "cell_type": "code",
      "metadata": {
        "id": "IKMDLA8woiA8",
        "colab": {
          "base_uri": "https://localhost:8080/"
        },
        "outputId": "0566a053-a08e-4282-eb8b-0c375349a2d5"
      },
      "source": [
        "def read_squad(path):\n",
        "  dataInJSON = loadJSONData(path)\n",
        "  return preprocessSQUAD(dataInJSON)\n",
        "\n",
        "\n",
        "train_contexts, train_questions, train_answers = read_squad('/content/squad/train-v2.0.json')\n",
        "print(\"Length of Context, Questions and Answers\" , len (train_contexts), \" , \", len(train_questions),  \" , \", len(train_answers) ) \n",
        "val_contexts, val_questions, val_answers = read_squad('/content/squad/dev-v2.0.json')\n",
        "print(\"Length of Context, Questions and Answers\" , len (val_contexts), \" , \", len(val_questions),  \" , \", len(val_answers) ) \n"
      ],
      "execution_count": 52,
      "outputs": [
        {
          "output_type": "stream",
          "text": [
            "Length Of JSON Data :  442\n",
            "Length of Context, Questions and Answers 86821  ,  86821  ,  86821\n",
            "Length of Context, Questions and Answers 86821  ,  86821  ,  86821\n",
            "Length Of JSON Data :  35\n",
            "Length of Context, Questions and Answers 20302  ,  20302  ,  20302\n",
            "Length of Context, Questions and Answers 20302  ,  20302  ,  20302\n"
          ],
          "name": "stdout"
        }
      ]
    },
    {
      "cell_type": "markdown",
      "metadata": {
        "id": "2bPtDyaFAtQm"
      },
      "source": [
        "The contexts and questions are just strings. The answers are dicts containing the subsequence of the passage with the correct answer as well as an integer indicating the character at which the answer begins. In order to train a model on this data we need (1) the tokenized context/question pairs, and (2) integers indicating at which token positions the answer begins and ends.\n",
        "\n",
        "First, let’s get the character position at which the answer ends in the passage (we are given the starting position). Sometimes SQuAD answers are off by one or two characters, so we will also adjust for that."
      ]
    },
    {
      "cell_type": "code",
      "metadata": {
        "id": "nraxKhioA1rG",
        "colab": {
          "base_uri": "https://localhost:8080/"
        },
        "outputId": "96bdbe63-abc7-49f0-a137-e9eee563741c"
      },
      "source": [
        "def add_end_idx(answers, contexts):\n",
        "    offByOneCount = 0\n",
        "    offByTwoCount = 0\n",
        "    exactCount = 0\n",
        "    for answer, context in zip(answers, contexts):\n",
        "     \n",
        "      # extract Answers and Start Positions\n",
        "      answer = answer[0]\n",
        "      #print(answer)\n",
        "      answerText = answer['text']\n",
        "      answerStartIndex = answer['answer_start']\n",
        "      \n",
        "      # calculate the end positions\n",
        "      answerEndIndex = answerStartIndex + len (answerText)\n",
        "      #print(\"Answer : \",answerText)\n",
        "      #print(\"AnswerStartIndex : \",answerStartIndex,\" AnswerEndIndex : \",answerEndIndex )  \n",
        "\n",
        "      # Check if Answers are off by 1 or 2 and fix\n",
        "      if context[answerStartIndex:answerEndIndex] == answerText:\n",
        "        answer['answer_end'] = answerEndIndex\n",
        "        exactCount = exactCount + 1\n",
        "\n",
        "      # Answer is off by 1 char    \n",
        "      elif context[answerStartIndex - 1:answerEndIndex - 1] == answerText:\n",
        "        answer['answer_start'] = answerStartIndex - 1\n",
        "        answer['answer_end'] = answerEndIndex - 1     \n",
        "        offByOneCount = offByOneCount + 1\n",
        "\n",
        "      elif context[answerStartIndex + 1:answerEndIndex + 1] == answerText:\n",
        "        answer['answer_start'] = answerStartIndex + 1\n",
        "        answer['answer_end'] = answerEndIndex + 1     \n",
        "        offByOneCount = offByOneCount + 1\n",
        "\n",
        "      # Answer is off by 2 chars\n",
        "      elif context[answerStartIndex - 2:answerEndIndex - 2] == answerText:\n",
        "        answer['answer_start'] = answerStartIndex - 2\n",
        "        answer['answer_end'] = answerEndIndex - 2\n",
        "        offByTwoCount = offByTwoCount + 1\n",
        "      \n",
        "      elif context[answerStartIndex + 2:answerEndIndex + 2] == answerText:\n",
        "        answer['answer_start'] = answerStartIndex + 2\n",
        "        answer['answer_end'] = answerEndIndex + 2\n",
        "        offByTwoCount = offByTwoCount + 1\n",
        "\n",
        "      else:\n",
        "        print(\"!!Answer is outside correctable range!!\") \n",
        "\n",
        "    print (\"OffByOne : \" , offByOneCount, \" , OffByTwo : \", offByTwoCount, \" exact : \", exactCount)\n",
        "add_end_idx(train_answers, train_contexts)\n",
        "add_end_idx(val_answers, val_contexts)"
      ],
      "execution_count": 57,
      "outputs": [
        {
          "output_type": "stream",
          "text": [
            "OffByOne :  0  , OffByTwo :  0  exact :  86821\n",
            "OffByOne :  0  , OffByTwo :  0  exact :  20302\n"
          ],
          "name": "stdout"
        }
      ]
    },
    {
      "cell_type": "markdown",
      "metadata": {
        "id": "CmLsa8hQA2a7"
      },
      "source": [
        "Now train_answers and val_answers include the character end positions and the corrected start positions. Next, let’s tokenize our context/question pairs. 🤗 Tokenizers can accept parallel lists of sequences and encode them together as sequence pairs."
      ]
    },
    {
      "cell_type": "code",
      "metadata": {
        "id": "KdhZS6o0qMty"
      },
      "source": [
        "from transformers import DistilBertTokenizerFast\n",
        "tokenizer = DistilBertTokenizerFast.from_pretrained('distilbert-base-uncased')\n",
        "\n",
        "# Your code here\n",
        "train_encodings = ...\n",
        "\n",
        "# Your code here\n",
        "val_encodings = ..."
      ],
      "execution_count": null,
      "outputs": []
    },
    {
      "cell_type": "markdown",
      "metadata": {
        "id": "DJdAikOIA_Zo"
      },
      "source": [
        "Next we need to convert our character start/end positions to token start/end positions. When using 🤗 Fast Tokenizers, we can use the <b>built in char_to_token()</b> method."
      ]
    },
    {
      "cell_type": "code",
      "metadata": {
        "id": "Kau7PrtIBAde"
      },
      "source": [
        "def add_token_positions(encodings, answers):\n",
        "    start_positions = []\n",
        "    end_positions = []\n",
        "    \n",
        "    # Your code here\n",
        "    ...\n",
        "\n",
        "    encodings.update({'start_positions': start_positions, 'end_positions': end_positions})\n",
        "\n",
        "add_token_positions(train_encodings, train_answers)\n",
        "add_token_positions(val_encodings, val_answers)"
      ],
      "execution_count": null,
      "outputs": []
    },
    {
      "cell_type": "markdown",
      "metadata": {
        "id": "QLIp2RhABITo"
      },
      "source": [
        "Our data is ready. Let’s just put it in a PyTorch/TensorFlow dataset so that we can easily use it for training. In PyTorch, we define a custom Dataset class. In TensorFlow, we pass a tuple of (inputs_dict, labels_dict) to the from_tensor_slices method."
      ]
    },
    {
      "cell_type": "code",
      "metadata": {
        "id": "cchIqVWpBI7X"
      },
      "source": [
        "import tensorflow as tf\n",
        "\n",
        "# Your code here\n",
        "train_dataset = ...\n",
        "))\n",
        "\n",
        "# Your code here\n",
        "val_dataset = ...\n",
        "))"
      ],
      "execution_count": null,
      "outputs": []
    },
    {
      "cell_type": "markdown",
      "metadata": {
        "id": "OshKaYppBOtD"
      },
      "source": [
        "Now we can use a DistilBert model with a QA head for training:"
      ]
    },
    {
      "cell_type": "code",
      "metadata": {
        "id": "-sGzpUDvBPVU"
      },
      "source": [
        "from transformers import TFDistilBertForQuestionAnswering\n",
        "\n",
        "# Your code here\n",
        "model = ..."
      ],
      "execution_count": null,
      "outputs": []
    },
    {
      "cell_type": "markdown",
      "metadata": {
        "id": "2UGXo8SwBTeX"
      },
      "source": [
        "The data and model are both ready to go. You can train the model with Trainer/TFTrainer exactly as in the sequence classification example above. If using native PyTorch, replace labels with start_positions and end_positions in the training example. If using Keras’s fit, we need to make a minor modification to handle this example since it involves multiple model outputs."
      ]
    },
    {
      "cell_type": "code",
      "metadata": {
        "id": "lSwoxCD_BU_D"
      },
      "source": [
        "# Keras will expect a tuple when dealing with labels\n",
        "\n",
        "# Write your code here to replace labels with start_positions and end_positions in the training example\n",
        "train_dataset = train_dataset.map(...)\n",
        "\n",
        "# Keras will assign a separate loss for each output and add them together. So we'll just use the standard CE loss\n",
        "# instead of using the built-in model.compute_loss, which expects a dict of outputs and averages the two terms.\n",
        "# Note that this means the loss will be 2x of when using TFTrainer since we're adding instead of averaging them.\n",
        "\n",
        "# Your code here\n",
        "loss = ...\n",
        "model.distilbert.return_dict = False # if using 🤗 Transformers >3.02, make sure outputs are tuples\n",
        "\n",
        "# Your code here\n",
        "optimizer = ...\n",
        "\n",
        "model.compile(optimizer=optimizer, loss=loss) # can also use any keras loss fn\n",
        "model.fit(train_dataset.shuffle(1000).batch(16), epochs=3, batch_size=16)"
      ],
      "execution_count": null,
      "outputs": []
    }
  ]
}